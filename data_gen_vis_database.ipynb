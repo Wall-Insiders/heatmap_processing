{
 "cells": [
  {
   "attachments": {},
   "cell_type": "markdown",
   "metadata": {},
   "source": [
    "# Database Query and Heatmap (V2)"
   ]
  },
  {
   "attachments": {},
   "cell_type": "markdown",
   "metadata": {},
   "source": [
    "Library Initialization"
   ]
  },
  {
   "cell_type": "code",
   "execution_count": 267,
   "metadata": {},
   "outputs": [],
   "source": [
    "from Modules.database_gen_sqlite import gen_data\n",
    "import pandas as pd\n",
    "import seaborn as sns\n",
    "import matplotlib.pyplot as plt\n",
    "import numpy as np\n",
    "import sqlite3"
   ]
  },
  {
   "attachments": {},
   "cell_type": "markdown",
   "metadata": {},
   "source": [
    "Database Generation Parameters"
   ]
  },
  {
   "cell_type": "code",
   "execution_count": 268,
   "metadata": {},
   "outputs": [],
   "source": [
    "wall_width, wall_height = 72, 120\n",
    "num_studs = 40\n",
    "base_name = \"test1\""
   ]
  },
  {
   "attachments": {},
   "cell_type": "markdown",
   "metadata": {},
   "source": [
    "Simulation Parameters"
   ]
  },
  {
   "cell_type": "code",
   "execution_count": 269,
   "metadata": {},
   "outputs": [],
   "source": [
    "stud_probability = 0.25\n",
    "base_stud_prob = 0.5\n",
    "stud_type_length = 4"
   ]
  },
  {
   "attachments": {},
   "cell_type": "markdown",
   "metadata": {},
   "source": [
    "Generate Database"
   ]
  },
  {
   "cell_type": "code",
   "execution_count": 270,
   "metadata": {},
   "outputs": [],
   "source": [
    "database_path = gen_data(base_name, wall_width, wall_height, num_studs, True)"
   ]
  },
  {
   "attachments": {},
   "cell_type": "markdown",
   "metadata": {},
   "source": [
    "Extract Data from database"
   ]
  },
  {
   "cell_type": "code",
   "execution_count": 271,
   "metadata": {},
   "outputs": [],
   "source": [
    "# Connects to the database\n",
    "con = sqlite3.connect(database_path)\n",
    "cur = con.cursor()"
   ]
  },
  {
   "cell_type": "code",
   "execution_count": 272,
   "metadata": {},
   "outputs": [],
   "source": [
    "# Query entire data in table\n",
    "cur.execute(\"SELECT * from stud_locations\")\n",
    "data = cur.fetchall()"
   ]
  },
  {
   "attachments": {},
   "cell_type": "markdown",
   "metadata": {},
   "source": [
    "Save data into array"
   ]
  },
  {
   "cell_type": "code",
   "execution_count": 273,
   "metadata": {},
   "outputs": [
    {
     "data": {
      "text/plain": [
       "(121, 73)"
      ]
     },
     "execution_count": 273,
     "metadata": {},
     "output_type": "execute_result"
    }
   ],
   "source": [
    "stud_array = np.zeros([wall_height+1, wall_width+1], dtype=float)\n",
    "stud_array.shape"
   ]
  },
  {
   "cell_type": "code",
   "execution_count": 274,
   "metadata": {},
   "outputs": [
    {
     "ename": "IndexError",
     "evalue": "index 73 is out of bounds for axis 1 with size 73",
     "output_type": "error",
     "traceback": [
      "\u001b[0;31m---------------------------------------------------------------------------\u001b[0m",
      "\u001b[0;31mIndexError\u001b[0m                                Traceback (most recent call last)",
      "Cell \u001b[0;32mIn[274], line 17\u001b[0m\n\u001b[1;32m     14\u001b[0m \u001b[39mfor\u001b[39;00m y \u001b[39min\u001b[39;00m \u001b[39mrange\u001b[39m(\u001b[39m1\u001b[39m,stud_type_length,\u001b[39m1\u001b[39m):\n\u001b[1;32m     15\u001b[0m    \u001b[39mif\u001b[39;00m(x_coord\u001b[39m+\u001b[39my \u001b[39m<\u001b[39m (wall_width\u001b[39m+\u001b[39m\u001b[39m1\u001b[39m)):\n\u001b[0;32m---> 17\u001b[0m       \u001b[39mif\u001b[39;00m(stud_array[x_coord, y_coord\u001b[39m+\u001b[39;49my] \u001b[39m<\u001b[39m \u001b[39m1\u001b[39m \u001b[39mand\u001b[39;00m stud_array[x_coord, y_coord\u001b[39m+\u001b[39my] \u001b[39m>\u001b[39m \u001b[39m0\u001b[39m):\n\u001b[1;32m     18\u001b[0m             stud_array[:, y_coord\u001b[39m+\u001b[39my] \u001b[39m=\u001b[39m (stud_array[x_coord,y_coord\u001b[39m+\u001b[39my] \u001b[39m*\u001b[39m stud_probability) \u001b[39m+\u001b[39m stud_array[x_coord,y_coord\u001b[39m+\u001b[39my]\n\u001b[1;32m     19\u001b[0m             \u001b[39mcontinue\u001b[39;00m\n",
      "\u001b[0;31mIndexError\u001b[0m: index 73 is out of bounds for axis 1 with size 73"
     ]
    }
   ],
   "source": [
    "# Save coordinates to numpy array\n",
    "for coord in data:\n",
    "    \n",
    "   x_coord, y_coord = coord[0], coord[1]\n",
    "   \n",
    "   # Check of overlapping studs\n",
    "   if(stud_array[x_coord, y_coord] > 0):\n",
    "      if(stud_array[x_coord, y_coord] < 1):\n",
    "         stud_array[:, y_coord] = (stud_array[x_coord, y_coord] * stud_probability) + stud_array[x_coord,y_coord]\n",
    "      \n",
    "   stud_array[:, y_coord] = base_stud_prob\n",
    "\n",
    "   # Expand the 4 coordinates by (x+1,y) of 3 iterations (2x4 stud dimension)\n",
    "   for y in range(1,stud_type_length,1):\n",
    "      if(x_coord+y < (wall_width+1)):\n",
    "         \n",
    "         if(stud_array[x_coord, y_coord+y] < 1 and stud_array[x_coord, y_coord+y] > 0):\n",
    "               stud_array[:, y_coord+y] = (stud_array[x_coord,y_coord+y] * stud_probability) + stud_array[x_coord,y_coord+y]\n",
    "               continue\n",
    "\n",
    "         stud_array[:, y_coord+y] = base_stud_prob"
   ]
  },
  {
   "attachments": {},
   "cell_type": "markdown",
   "metadata": {},
   "source": [
    "Stud Data Refinement"
   ]
  },
  {
   "cell_type": "code",
   "execution_count": null,
   "metadata": {},
   "outputs": [
    {
     "data": {
      "text/html": [
       "<div>\n",
       "<style scoped>\n",
       "    .dataframe tbody tr th:only-of-type {\n",
       "        vertical-align: middle;\n",
       "    }\n",
       "\n",
       "    .dataframe tbody tr th {\n",
       "        vertical-align: top;\n",
       "    }\n",
       "\n",
       "    .dataframe thead th {\n",
       "        text-align: right;\n",
       "    }\n",
       "</style>\n",
       "<table border=\"1\" class=\"dataframe\">\n",
       "  <thead>\n",
       "    <tr style=\"text-align: right;\">\n",
       "      <th></th>\n",
       "      <th>0</th>\n",
       "      <th>1</th>\n",
       "      <th>2</th>\n",
       "      <th>3</th>\n",
       "      <th>4</th>\n",
       "      <th>5</th>\n",
       "      <th>6</th>\n",
       "      <th>7</th>\n",
       "      <th>8</th>\n",
       "      <th>9</th>\n",
       "      <th>...</th>\n",
       "      <th>111</th>\n",
       "      <th>112</th>\n",
       "      <th>113</th>\n",
       "      <th>114</th>\n",
       "      <th>115</th>\n",
       "      <th>116</th>\n",
       "      <th>117</th>\n",
       "      <th>118</th>\n",
       "      <th>119</th>\n",
       "      <th>120</th>\n",
       "    </tr>\n",
       "  </thead>\n",
       "  <tbody>\n",
       "    <tr>\n",
       "      <th>0</th>\n",
       "      <td>0.5</td>\n",
       "      <td>0.5</td>\n",
       "      <td>0.5</td>\n",
       "      <td>0.5</td>\n",
       "      <td>0.0</td>\n",
       "      <td>0.0</td>\n",
       "      <td>0.5</td>\n",
       "      <td>0.625</td>\n",
       "      <td>0.78125</td>\n",
       "      <td>0.78125</td>\n",
       "      <td>...</td>\n",
       "      <td>0.0</td>\n",
       "      <td>0.5</td>\n",
       "      <td>0.0</td>\n",
       "      <td>0.5</td>\n",
       "      <td>0.0</td>\n",
       "      <td>0.0</td>\n",
       "      <td>0.0</td>\n",
       "      <td>0.0</td>\n",
       "      <td>0.5</td>\n",
       "      <td>0.0</td>\n",
       "    </tr>\n",
       "    <tr>\n",
       "      <th>1</th>\n",
       "      <td>0.5</td>\n",
       "      <td>0.5</td>\n",
       "      <td>0.5</td>\n",
       "      <td>0.5</td>\n",
       "      <td>0.0</td>\n",
       "      <td>0.0</td>\n",
       "      <td>0.5</td>\n",
       "      <td>0.625</td>\n",
       "      <td>0.78125</td>\n",
       "      <td>0.78125</td>\n",
       "      <td>...</td>\n",
       "      <td>0.0</td>\n",
       "      <td>0.5</td>\n",
       "      <td>0.0</td>\n",
       "      <td>0.5</td>\n",
       "      <td>0.0</td>\n",
       "      <td>0.0</td>\n",
       "      <td>0.0</td>\n",
       "      <td>0.0</td>\n",
       "      <td>0.5</td>\n",
       "      <td>0.0</td>\n",
       "    </tr>\n",
       "    <tr>\n",
       "      <th>2</th>\n",
       "      <td>0.5</td>\n",
       "      <td>0.5</td>\n",
       "      <td>0.5</td>\n",
       "      <td>0.5</td>\n",
       "      <td>0.0</td>\n",
       "      <td>0.0</td>\n",
       "      <td>0.5</td>\n",
       "      <td>0.625</td>\n",
       "      <td>0.78125</td>\n",
       "      <td>0.78125</td>\n",
       "      <td>...</td>\n",
       "      <td>0.0</td>\n",
       "      <td>0.5</td>\n",
       "      <td>0.0</td>\n",
       "      <td>0.5</td>\n",
       "      <td>0.0</td>\n",
       "      <td>0.0</td>\n",
       "      <td>0.0</td>\n",
       "      <td>0.0</td>\n",
       "      <td>0.5</td>\n",
       "      <td>0.0</td>\n",
       "    </tr>\n",
       "    <tr>\n",
       "      <th>3</th>\n",
       "      <td>0.5</td>\n",
       "      <td>0.5</td>\n",
       "      <td>0.5</td>\n",
       "      <td>0.5</td>\n",
       "      <td>0.0</td>\n",
       "      <td>0.0</td>\n",
       "      <td>0.5</td>\n",
       "      <td>0.625</td>\n",
       "      <td>0.78125</td>\n",
       "      <td>0.78125</td>\n",
       "      <td>...</td>\n",
       "      <td>0.0</td>\n",
       "      <td>0.5</td>\n",
       "      <td>0.0</td>\n",
       "      <td>0.5</td>\n",
       "      <td>0.0</td>\n",
       "      <td>0.0</td>\n",
       "      <td>0.0</td>\n",
       "      <td>0.0</td>\n",
       "      <td>0.5</td>\n",
       "      <td>0.0</td>\n",
       "    </tr>\n",
       "    <tr>\n",
       "      <th>4</th>\n",
       "      <td>0.5</td>\n",
       "      <td>0.5</td>\n",
       "      <td>0.5</td>\n",
       "      <td>0.5</td>\n",
       "      <td>0.0</td>\n",
       "      <td>0.0</td>\n",
       "      <td>0.5</td>\n",
       "      <td>0.625</td>\n",
       "      <td>0.78125</td>\n",
       "      <td>0.78125</td>\n",
       "      <td>...</td>\n",
       "      <td>0.0</td>\n",
       "      <td>0.5</td>\n",
       "      <td>0.0</td>\n",
       "      <td>0.5</td>\n",
       "      <td>0.0</td>\n",
       "      <td>0.0</td>\n",
       "      <td>0.0</td>\n",
       "      <td>0.0</td>\n",
       "      <td>0.5</td>\n",
       "      <td>0.0</td>\n",
       "    </tr>\n",
       "    <tr>\n",
       "      <th>...</th>\n",
       "      <td>...</td>\n",
       "      <td>...</td>\n",
       "      <td>...</td>\n",
       "      <td>...</td>\n",
       "      <td>...</td>\n",
       "      <td>...</td>\n",
       "      <td>...</td>\n",
       "      <td>...</td>\n",
       "      <td>...</td>\n",
       "      <td>...</td>\n",
       "      <td>...</td>\n",
       "      <td>...</td>\n",
       "      <td>...</td>\n",
       "      <td>...</td>\n",
       "      <td>...</td>\n",
       "      <td>...</td>\n",
       "      <td>...</td>\n",
       "      <td>...</td>\n",
       "      <td>...</td>\n",
       "      <td>...</td>\n",
       "      <td>...</td>\n",
       "    </tr>\n",
       "    <tr>\n",
       "      <th>68</th>\n",
       "      <td>0.5</td>\n",
       "      <td>0.5</td>\n",
       "      <td>0.5</td>\n",
       "      <td>0.5</td>\n",
       "      <td>0.0</td>\n",
       "      <td>0.0</td>\n",
       "      <td>0.5</td>\n",
       "      <td>0.625</td>\n",
       "      <td>0.78125</td>\n",
       "      <td>0.78125</td>\n",
       "      <td>...</td>\n",
       "      <td>0.0</td>\n",
       "      <td>0.5</td>\n",
       "      <td>0.0</td>\n",
       "      <td>0.5</td>\n",
       "      <td>0.0</td>\n",
       "      <td>0.0</td>\n",
       "      <td>0.0</td>\n",
       "      <td>0.0</td>\n",
       "      <td>0.5</td>\n",
       "      <td>0.0</td>\n",
       "    </tr>\n",
       "    <tr>\n",
       "      <th>69</th>\n",
       "      <td>0.5</td>\n",
       "      <td>0.5</td>\n",
       "      <td>0.5</td>\n",
       "      <td>0.5</td>\n",
       "      <td>0.0</td>\n",
       "      <td>0.0</td>\n",
       "      <td>0.5</td>\n",
       "      <td>0.625</td>\n",
       "      <td>0.78125</td>\n",
       "      <td>0.78125</td>\n",
       "      <td>...</td>\n",
       "      <td>0.0</td>\n",
       "      <td>0.5</td>\n",
       "      <td>0.0</td>\n",
       "      <td>0.5</td>\n",
       "      <td>0.0</td>\n",
       "      <td>0.0</td>\n",
       "      <td>0.0</td>\n",
       "      <td>0.0</td>\n",
       "      <td>0.5</td>\n",
       "      <td>0.0</td>\n",
       "    </tr>\n",
       "    <tr>\n",
       "      <th>70</th>\n",
       "      <td>0.5</td>\n",
       "      <td>0.5</td>\n",
       "      <td>0.5</td>\n",
       "      <td>0.5</td>\n",
       "      <td>0.0</td>\n",
       "      <td>0.0</td>\n",
       "      <td>0.5</td>\n",
       "      <td>0.625</td>\n",
       "      <td>0.78125</td>\n",
       "      <td>0.78125</td>\n",
       "      <td>...</td>\n",
       "      <td>0.0</td>\n",
       "      <td>0.5</td>\n",
       "      <td>0.0</td>\n",
       "      <td>0.5</td>\n",
       "      <td>0.0</td>\n",
       "      <td>0.0</td>\n",
       "      <td>0.0</td>\n",
       "      <td>0.0</td>\n",
       "      <td>0.5</td>\n",
       "      <td>0.0</td>\n",
       "    </tr>\n",
       "    <tr>\n",
       "      <th>71</th>\n",
       "      <td>0.5</td>\n",
       "      <td>0.5</td>\n",
       "      <td>0.5</td>\n",
       "      <td>0.5</td>\n",
       "      <td>0.0</td>\n",
       "      <td>0.0</td>\n",
       "      <td>0.5</td>\n",
       "      <td>0.625</td>\n",
       "      <td>0.78125</td>\n",
       "      <td>0.78125</td>\n",
       "      <td>...</td>\n",
       "      <td>0.0</td>\n",
       "      <td>0.5</td>\n",
       "      <td>0.0</td>\n",
       "      <td>0.5</td>\n",
       "      <td>0.0</td>\n",
       "      <td>0.0</td>\n",
       "      <td>0.0</td>\n",
       "      <td>0.0</td>\n",
       "      <td>0.5</td>\n",
       "      <td>0.0</td>\n",
       "    </tr>\n",
       "    <tr>\n",
       "      <th>72</th>\n",
       "      <td>0.5</td>\n",
       "      <td>0.5</td>\n",
       "      <td>0.5</td>\n",
       "      <td>0.5</td>\n",
       "      <td>0.0</td>\n",
       "      <td>0.0</td>\n",
       "      <td>0.5</td>\n",
       "      <td>0.625</td>\n",
       "      <td>0.78125</td>\n",
       "      <td>0.78125</td>\n",
       "      <td>...</td>\n",
       "      <td>0.0</td>\n",
       "      <td>0.5</td>\n",
       "      <td>0.0</td>\n",
       "      <td>0.5</td>\n",
       "      <td>0.0</td>\n",
       "      <td>0.0</td>\n",
       "      <td>0.0</td>\n",
       "      <td>0.0</td>\n",
       "      <td>0.5</td>\n",
       "      <td>0.0</td>\n",
       "    </tr>\n",
       "  </tbody>\n",
       "</table>\n",
       "<p>73 rows × 121 columns</p>\n",
       "</div>"
      ],
      "text/plain": [
       "    0    1    2    3    4    5    6      7        8        9    ...  111  112  \\\n",
       "0   0.5  0.5  0.5  0.5  0.0  0.0  0.5  0.625  0.78125  0.78125  ...  0.0  0.5   \n",
       "1   0.5  0.5  0.5  0.5  0.0  0.0  0.5  0.625  0.78125  0.78125  ...  0.0  0.5   \n",
       "2   0.5  0.5  0.5  0.5  0.0  0.0  0.5  0.625  0.78125  0.78125  ...  0.0  0.5   \n",
       "3   0.5  0.5  0.5  0.5  0.0  0.0  0.5  0.625  0.78125  0.78125  ...  0.0  0.5   \n",
       "4   0.5  0.5  0.5  0.5  0.0  0.0  0.5  0.625  0.78125  0.78125  ...  0.0  0.5   \n",
       "..  ...  ...  ...  ...  ...  ...  ...    ...      ...      ...  ...  ...  ...   \n",
       "68  0.5  0.5  0.5  0.5  0.0  0.0  0.5  0.625  0.78125  0.78125  ...  0.0  0.5   \n",
       "69  0.5  0.5  0.5  0.5  0.0  0.0  0.5  0.625  0.78125  0.78125  ...  0.0  0.5   \n",
       "70  0.5  0.5  0.5  0.5  0.0  0.0  0.5  0.625  0.78125  0.78125  ...  0.0  0.5   \n",
       "71  0.5  0.5  0.5  0.5  0.0  0.0  0.5  0.625  0.78125  0.78125  ...  0.0  0.5   \n",
       "72  0.5  0.5  0.5  0.5  0.0  0.0  0.5  0.625  0.78125  0.78125  ...  0.0  0.5   \n",
       "\n",
       "    113  114  115  116  117  118  119  120  \n",
       "0   0.0  0.5  0.0  0.0  0.0  0.0  0.5  0.0  \n",
       "1   0.0  0.5  0.0  0.0  0.0  0.0  0.5  0.0  \n",
       "2   0.0  0.5  0.0  0.0  0.0  0.0  0.5  0.0  \n",
       "3   0.0  0.5  0.0  0.0  0.0  0.0  0.5  0.0  \n",
       "4   0.0  0.5  0.0  0.0  0.0  0.0  0.5  0.0  \n",
       "..  ...  ...  ...  ...  ...  ...  ...  ...  \n",
       "68  0.0  0.5  0.0  0.0  0.0  0.0  0.5  0.0  \n",
       "69  0.0  0.5  0.0  0.0  0.0  0.0  0.5  0.0  \n",
       "70  0.0  0.5  0.0  0.0  0.0  0.0  0.5  0.0  \n",
       "71  0.0  0.5  0.0  0.0  0.0  0.0  0.5  0.0  \n",
       "72  0.0  0.5  0.0  0.0  0.0  0.0  0.5  0.0  \n",
       "\n",
       "[73 rows x 121 columns]"
      ]
     },
     "execution_count": 258,
     "metadata": {},
     "output_type": "execute_result"
    }
   ],
   "source": [
    "stud_array[stud_array > 1] = 1\n",
    "df = pd.DataFrame(stud_array)\n",
    "df"
   ]
  },
  {
   "attachments": {},
   "cell_type": "markdown",
   "metadata": {},
   "source": [
    "Display Heatmap"
   ]
  },
  {
   "cell_type": "code",
   "execution_count": null,
   "metadata": {},
   "outputs": [
    {
     "data": {
      "image/png": "[encoded data removed]",
      "text/plain": [
       "<Figure size 640x480 with 2 Axes>"
      ]
     },
     "metadata": {},
     "output_type": "display_data"
    }
   ],
   "source": [
    "heat = sns.heatmap(df, vmax=1)\n",
    "heat.axes.set_xlabel(\"Length of Wall (inches per tick)\")\n",
    "heat.axes.set_ylabel(\"Height of Wall (inches per tick)\")\n",
    "heat.axes.set_title(\"Heatmap Testing\")\n",
    "plt.show()"
   ]
  }
 ],
 "metadata": {
  "kernelspec": {
   "display_name": "Python 3",
   "language": "python",
   "name": "python3"
  },
  "language_info": {
   "codemirror_mode": {
    "name": "ipython",
    "version": 3
   },
   "file_extension": ".py",
   "mimetype": "text/x-python",
   "name": "python",
   "nbconvert_exporter": "python",
   "pygments_lexer": "ipython3",
   "version": "3.10.6"
  },
  "orig_nbformat": 4,
  "vscode": {
   "interpreter": {
    "hash": "916dbcbb3f70747c44a77c7bcd40155683ae19c65e1c03b4aa3499c5328201f1"
   }
  }
 },
 "nbformat": 4,
 "nbformat_minor": 2
}
